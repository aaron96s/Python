{
 "cells": [
  {
   "cell_type": "code",
   "execution_count": 18,
   "metadata": {},
   "outputs": [],
   "source": [
    "import os\n",
    "import csv"
   ]
  },
  {
   "cell_type": "code",
   "execution_count": 19,
   "metadata": {},
   "outputs": [],
   "source": [
    "budget_csv=os.path.join('Resources','budget_data.csv')"
   ]
  },
  {
   "cell_type": "code",
   "execution_count": 20,
   "metadata": {},
   "outputs": [],
   "source": [
    "total_months=[]\n",
    "total_profit=[]\n",
    "monthly_pc=[]"
   ]
  },
  {
   "cell_type": "code",
   "execution_count": 21,
   "metadata": {},
   "outputs": [],
   "source": [
    "with open(budget_csv, newline = \"\")as csvfile:\n",
    "    csvreader = csv.reader (csvfile, delimiter = \",\")\n",
    "    \n",
    "    csv_header = next(csvreader)\n",
    "    \n",
    "    for row in csvreader:\n",
    "        total_months.append(row[0])\n",
    "        total_profit.append(int(row[1]))\n",
    "    \n",
    "    \n",
    "    for i in range(len(total_profit)-1):\n",
    "        monthly_pc.append(total_profit[i+1]-total_profit[i])"
   ]
  },
  {
   "cell_type": "code",
   "execution_count": 22,
   "metadata": {},
   "outputs": [],
   "source": [
    "maxi= max(monthly_pc)\n",
    "maxd=min(monthly_pc)\n",
    "\n",
    "maxim=monthly_pc.index(max(monthly_pc))+1\n",
    "maxdm=monthly_pc.index(min(monthly_pc))+1\n",
    "\n"
   ]
  },
  {
   "cell_type": "code",
   "execution_count": 32,
   "metadata": {},
   "outputs": [
    {
     "name": "stdout",
     "output_type": "stream",
     "text": [
      "Financial Analysis\n",
      "Total Number of Months:86\n",
      "Toatl Profit:$38382578\n",
      "Average Monthly Change in Profit: -2315.12\n",
      "Greatest Increase in Profit: Feb-2012 ($1926159)\n",
      "Greatest Decrease in Profit: Sep-2013 ($-2196167)\n"
     ]
    }
   ],
   "source": [
    "print(\"Financial Analysis\")\n",
    "print(f\"Total Number of Months:{len(total_months)}\")\n",
    "print(f\"Toatl Profit:${sum(total_profit)}\")\n",
    "print(f\"Average Monthly Change in Profit: {round(sum(monthly_pc)/len(monthly_pc),2)}\")\n",
    "print(f\"Greatest Increase in Profit: {total_months[maxim]} (${(str(maxi))})\")\n",
    "print(f\"Greatest Decrease in Profit: {total_months[maxdm]} (${(str(maxd))})\")\n",
    "\n"
   ]
  },
  {
   "cell_type": "code",
   "execution_count": null,
   "metadata": {},
   "outputs": [],
   "source": []
  },
  {
   "cell_type": "code",
   "execution_count": null,
   "metadata": {},
   "outputs": [],
   "source": []
  }
 ],
 "metadata": {
  "kernelspec": {
   "display_name": "Python 3",
   "language": "python",
   "name": "python3"
  },
  "language_info": {
   "codemirror_mode": {
    "name": "ipython",
    "version": 3
   },
   "file_extension": ".py",
   "mimetype": "text/x-python",
   "name": "python",
   "nbconvert_exporter": "python",
   "pygments_lexer": "ipython3",
   "version": "3.8.5"
  }
 },
 "nbformat": 4,
 "nbformat_minor": 4
}
