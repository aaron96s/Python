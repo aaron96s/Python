{
 "cells": [
  {
   "cell_type": "code",
   "execution_count": 114,
   "metadata": {},
   "outputs": [],
   "source": [
    "import os\n",
    "import csv"
   ]
  },
  {
   "cell_type": "code",
   "execution_count": 115,
   "metadata": {},
   "outputs": [],
   "source": [
    "budget_csv=os.path.join('Resources','budget_data.csv')"
   ]
  },
  {
   "cell_type": "code",
   "execution_count": 116,
   "metadata": {},
   "outputs": [],
   "source": [
    "#empty list\n",
    "total_months=[]\n",
    "profit_total=[]\n",
    "monthly_change=[]"
   ]
  },
  {
   "cell_type": "code",
   "execution_count": 117,
   "metadata": {},
   "outputs": [
    {
     "name": "stdout",
     "output_type": "stream",
     "text": [
      "38382578\n"
     ]
    }
   ],
   "source": [
    "#open and read csv\n",
    "with open(budget_csv, newline = \"\")as csvfile:\n",
    "    csvreader = csv.reader (csvfile, delimiter = \",\")\n",
    "    csv_header = next(csvreader)\n",
    "    \n",
    "#search for profits\n",
    "    for row in csvreader:\n",
    "        total_months.append(row[0])\n",
    "        profit_total.append(int(row[1]))\n",
    "#monthly change in profits\n",
    "    for i in range(len(profit_total)-1):\n",
    "        monthly_change.append(profit_total[i+1]-profit_total[i])\n",
    "        sum_of_profit=sum(profit_total)\n",
    "    \n",
    "    print(sum_of_profit)"
   ]
  },
  {
   "cell_type": "code",
   "execution_count": 118,
   "metadata": {},
   "outputs": [],
   "source": [
    "#max and min profits\n",
    "max_increase= max(monthly_change)\n",
    "max_increase_m=monthly_change.index(max(monthly_change))+1\n",
    "\n",
    "max_decrease=min(monthly_change)\n",
    "max_decrease_m=monthly_change.index(min(monthly_change))+1"
   ]
  },
  {
   "cell_type": "code",
   "execution_count": 119,
   "metadata": {},
   "outputs": [
    {
     "name": "stdout",
     "output_type": "stream",
     "text": [
      "Financial Analysis\n",
      "Total Months:86\n",
      "Toatl: $38382578\n",
      "Average Change: -2315.12\n",
      "Greatest Increase in Profit: Feb-2012 ($1926159)\n",
      "Greatest Decrease in Profit: Sep-2013 ($-2196167)\n"
     ]
    }
   ],
   "source": [
    "print(\"Financial Analysis\")\n",
    "print(\"Total Months:\" + str(len(total_months)))\n",
    "print(\"Toatl: $\" + str(sum_of_profit))\n",
    "print(f\"Average Change: {round(sum(monthly_change)/len(monthly_change),2)}\")\n",
    "print(f\"Greatest Increase in Profit: {total_months[max_increase_m]} (${(str(max_increase))})\")\n",
    "print(f\"Greatest Decrease in Profit: {total_months[max_decrease_m]} (${(str(max_decrease))})\")\n",
    "\n"
   ]
  },
  {
   "cell_type": "code",
   "execution_count": null,
   "metadata": {},
   "outputs": [],
   "source": []
  },
  {
   "cell_type": "code",
   "execution_count": null,
   "metadata": {},
   "outputs": [],
   "source": []
  }
 ],
 "metadata": {
  "kernelspec": {
   "display_name": "Python 3",
   "language": "python",
   "name": "python3"
  },
  "language_info": {
   "codemirror_mode": {
    "name": "ipython",
    "version": 3
   },
   "file_extension": ".py",
   "mimetype": "text/x-python",
   "name": "python",
   "nbconvert_exporter": "python",
   "pygments_lexer": "ipython3",
   "version": "3.8.5"
  }
 },
 "nbformat": 4,
 "nbformat_minor": 4
}
