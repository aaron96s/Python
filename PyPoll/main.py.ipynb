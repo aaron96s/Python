{
 "cells": [
  {
   "cell_type": "code",
   "execution_count": 26,
   "metadata": {},
   "outputs": [],
   "source": [
    "import os\n",
    "import csv"
   ]
  },
  {
   "cell_type": "code",
   "execution_count": 27,
   "metadata": {},
   "outputs": [],
   "source": [
    "election_csv=os.path.join('Resources','election_data.csv')"
   ]
  },
  {
   "cell_type": "code",
   "execution_count": 28,
   "metadata": {},
   "outputs": [],
   "source": [
    "#empty list\n",
    "votes= []\n",
    "khan= []\n",
    "correy=[]\n",
    "li=[]\n",
    "otooley=[]\n",
    "candidates=[]"
   ]
  },
  {
   "cell_type": "code",
   "execution_count": 29,
   "metadata": {},
   "outputs": [
    {
     "name": "stdout",
     "output_type": "stream",
     "text": [
      "3521001\n"
     ]
    }
   ],
   "source": [
    "#open and read csv\n",
    "with open (election_csv,newline=\"\") as csvfile:\n",
    "    csvreader=csv.reader(csvfile,delimiter=\",\")\n",
    "    \n",
    "    csvheader= next(csvreader)\n",
    "#search for votes    \n",
    "    for row in csvreader:\n",
    "        votes.append(int(row[0]))\n",
    "        candidates.append(row[2])\n",
    "#total votes       \n",
    "    total_votes=(len(votes))\n",
    "    print(total_votes)\n",
    "    "
   ]
  },
  {
   "cell_type": "code",
   "execution_count": 30,
   "metadata": {},
   "outputs": [
    {
     "name": "stdout",
     "output_type": "stream",
     "text": [
      "2218231\n",
      "704200\n",
      "492940\n",
      "105630\n"
     ]
    }
   ],
   "source": [
    "#votes per person\n",
    "for candidate in candidates:\n",
    "    if candidate == \"Khan\":\n",
    "        khan.append(candidates)\n",
    "        khan_votes = len(khan)\n",
    "    elif candidate == \"Correy\":\n",
    "        correy.append(candidates)\n",
    "        correy_votes = len(correy)\n",
    "    elif candidate == \"Li\":\n",
    "        li.append(candidates)\n",
    "        li_votes = len(li)\n",
    "    else:\n",
    "        otooley.append(candidates)\n",
    "        otooley_votes = len(otooley)\n",
    "            \n",
    "print(khan_votes)\n",
    "print(correy_votes)\n",
    "print(li_votes)\n",
    "print(otooley_votes)\n",
    "            "
   ]
  },
  {
   "cell_type": "code",
   "execution_count": 31,
   "metadata": {},
   "outputs": [
    {
     "name": "stdout",
     "output_type": "stream",
     "text": [
      "63\n",
      "20\n",
      "14\n",
      "3\n"
     ]
    }
   ],
   "source": [
    "#total vote percentage\n",
    "khan_percent=round((khan_votes/total_votes)*100)\n",
    "correy_percent=round((correy_votes/total_votes)*100)\n",
    "li_percent=round((li_votes/total_votes)*100)\n",
    "otooley_percent=round((otooley_votes/total_votes)*100)\n",
    "\n",
    "print(khan_percent)\n",
    "print(correy_percent)\n",
    "print(li_percent)\n",
    "print(otooley_percent)"
   ]
  },
  {
   "cell_type": "code",
   "execution_count": 32,
   "metadata": {},
   "outputs": [
    {
     "name": "stdout",
     "output_type": "stream",
     "text": [
      "Election Results\n",
      "Total Votes:3521001\n",
      "Khan:63% 2218231\n",
      "Correy:20% 704200\n",
      "Li:14% 492940\n",
      "O'Tooley:3% 105630\n",
      "Winner:Khan\n"
     ]
    }
   ],
   "source": [
    "#winner\n",
    "if khan_percent>max(correy_percent,li_percent,otooley_percent):\n",
    "    winner=\"Khan\"\n",
    "elif correy_percent>max(khan_percent,li_percent,otooley_percent):\n",
    "    winner=\"Correy\"\n",
    "elif li_percent>max(khan_percent,li_percent,otooley_percent):\n",
    "    winnter=\"Li\"\n",
    "else:\n",
    "    winner=\"O'Tooley\"\n",
    "    \n",
    "print(\"Election Results\")\n",
    "print(f\"Total Votes:{total_votes}\")\n",
    "print(f\"Khan:{khan_percent}% {khan_votes}\")\n",
    "print(f\"Correy:{correy_percent}% {correy_votes}\")\n",
    "print(f\"Li:{li_percent}% {li_votes}\")\n",
    "print(f\"O'Tooley:{otooley_percent}% {otooley_votes}\")\n",
    "print(f\"Winner:{winner}\")"
   ]
  },
  {
   "cell_type": "code",
   "execution_count": null,
   "metadata": {},
   "outputs": [],
   "source": []
  },
  {
   "cell_type": "code",
   "execution_count": null,
   "metadata": {},
   "outputs": [],
   "source": []
  }
 ],
 "metadata": {
  "kernelspec": {
   "display_name": "Python 3",
   "language": "python",
   "name": "python3"
  },
  "language_info": {
   "codemirror_mode": {
    "name": "ipython",
    "version": 3
   },
   "file_extension": ".py",
   "mimetype": "text/x-python",
   "name": "python",
   "nbconvert_exporter": "python",
   "pygments_lexer": "ipython3",
   "version": "3.8.5"
  }
 },
 "nbformat": 4,
 "nbformat_minor": 4
}
